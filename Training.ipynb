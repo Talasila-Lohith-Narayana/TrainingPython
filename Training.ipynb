{
  "cells": [
    {
      "cell_type": "code",
      "execution_count": null,
      "metadata": {
        "colab": {
          "base_uri": "https://localhost:8080/"
        },
        "id": "SAqFkMkiU5fW",
        "outputId": "5690ce8b-8cff-472f-ab87-29887644bf5c"
      },
      "outputs": [
        {
          "data": {
            "text/plain": [
              "numpy.ndarray"
            ]
          },
          "execution_count": 2,
          "metadata": {},
          "output_type": "execute_result"
        }
      ],
      "source": [
        "import numpy as np\n",
        "a=np.array([1,2])\n",
        "type(a)\n"
      ]
    },
    {
      "cell_type": "code",
      "execution_count": 1,
      "metadata": {
        "colab": {
          "base_uri": "https://localhost:8080/"
        },
        "id": "Jp-tGIAEWjgw",
        "outputId": "2f61a0c3-9cf9-445c-b8c4-e86ec86c8a66"
      },
      "outputs": [
        {
          "output_type": "stream",
          "name": "stdout",
          "text": [
            "[3, 2, 1]\n",
            "[3]\n",
            "[1, 2, 3]\n",
            "[1]\n",
            "5\n",
            "[2, 3]\n",
            "\n",
            "5\n"
          ]
        }
      ],
      "source": [
        "a=[1,2,3]\n",
        "b=[2]\n",
        "c=a[::-1]\n",
        "print(c)\n",
        "print(a[2:])\n",
        "print(a[:])\n",
        "print(a[:1])\n",
        "del a[0]\n",
        "print(sum(a))\n",
        "print(a)\n",
        "print()\n",
        "def add(alist):\n",
        "  return sum(alist)\n",
        "print(add(a))\n"
      ]
    },
    {
      "cell_type": "markdown",
      "metadata": {
        "id": "BRxAO6B0pdGV"
      },
      "source": [
        "Operation on a List\n",
        "  * [1,2,3]*2=[1,2,3,1,2,3]\n",
        "  + Used for concatenation.Can only concatenate lists\n",
        "  \n",
        "\n",
        "\n",
        "\n",
        "\n"
      ]
    },
    {
      "cell_type": "code",
      "execution_count": 14,
      "metadata": {
        "id": "o0H66QjdpGxp",
        "colab": {
          "base_uri": "https://localhost:8080/"
        },
        "outputId": "0d152fbc-8fbb-4c9c-a277-1b4f49eb9849"
      },
      "outputs": [
        {
          "output_type": "stream",
          "name": "stdout",
          "text": [
            "(1, 2, 3, 4)\n",
            "(4, 3, 2, 1)\n",
            "('ABC', 'DEF', 1, 2)\n",
            "<class 'int'>\n"
          ]
        },
        {
          "output_type": "execute_result",
          "data": {
            "text/plain": [
              "str"
            ]
          },
          "metadata": {},
          "execution_count": 14
        }
      ],
      "source": [
        "a=(1,2,3)\n",
        "a=(1,2,3,4)\n",
        "print(a)\n",
        "#del a[0]\n",
        "b=a[::-1]\n",
        "print(b)\n",
        "c=(\"ABC\",\"DEF\",1,2)\n",
        "print(c)\n",
        "print(type(a[0]))\n",
        "type(c[0])"
      ]
    },
    {
      "cell_type": "code",
      "source": [
        "d={'a':\"abc\",'b':123}\n",
        "type(d)\n",
        "print(d)\n",
        "print(d['a'])\n",
        "print(d.get('b'))\n",
        "print(d.values())\n",
        "print(d.keys())\n",
        "d.pop('b')\n",
        "print(d)"
      ],
      "metadata": {
        "colab": {
          "base_uri": "https://localhost:8080/"
        },
        "id": "Q9hGExUKf--r",
        "outputId": "114cdd30-d1db-443e-b07e-328ee63a886c"
      },
      "execution_count": 38,
      "outputs": [
        {
          "output_type": "stream",
          "name": "stdout",
          "text": [
            "{'a': 'abc', 'b': 123}\n",
            "abc\n",
            "123\n",
            "dict_values(['abc', 123])\n",
            "dict_keys(['a', 'b'])\n",
            "{'a': 'abc'}\n"
          ]
        }
      ]
    },
    {
      "cell_type": "code",
      "source": [],
      "metadata": {
        "id": "Y54JHvhkh81n"
      },
      "execution_count": null,
      "outputs": []
    }
  ],
  "metadata": {
    "colab": {
      "provenance": []
    },
    "kernelspec": {
      "display_name": "Python 3",
      "name": "python3"
    },
    "language_info": {
      "name": "python"
    }
  },
  "nbformat": 4,
  "nbformat_minor": 0
}