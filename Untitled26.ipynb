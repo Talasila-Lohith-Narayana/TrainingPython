{
 "cells": [
  {
   "cell_type": "markdown",
   "id": "cd1fdef8-2743-4737-842c-324d5eb1a669",
   "metadata": {},
   "source": [
    "Day 1"
   ]
  },
  {
   "cell_type": "code",
   "execution_count": 34,
   "id": "70bb43e6-25be-40c3-a978-6880ce6c9ae6",
   "metadata": {},
   "outputs": [
    {
     "data": {
      "text/plain": [
       "5"
      ]
     },
     "execution_count": 34,
     "metadata": {},
     "output_type": "execute_result"
    }
   ],
   "source": [
    "import numpy as np\n",
    "import pandas as pd\n",
    "df=pd.read_csv(\"C:\\\\Users\\\\lohit\\\\Downloads\\\\bbc_data.csv\")\n",
    "df['labels'].nunique()"
   ]
  },
  {
   "cell_type": "code",
   "execution_count": null,
   "id": "26060861-4724-4ee2-90d3-4bdc711033b7",
   "metadata": {},
   "outputs": [],
   "source": []
  },
  {
   "cell_type": "code",
   "execution_count": null,
   "id": "05c9f047-7fd3-4b0c-b75c-8c66b16e1c23",
   "metadata": {},
   "outputs": [],
   "source": []
  }
 ],
 "metadata": {
  "kernelspec": {
   "display_name": "Python 3 (ipykernel)",
   "language": "python",
   "name": "python3"
  },
  "language_info": {
   "codemirror_mode": {
    "name": "ipython",
    "version": 3
   },
   "file_extension": ".py",
   "mimetype": "text/x-python",
   "name": "python",
   "nbconvert_exporter": "python",
   "pygments_lexer": "ipython3",
   "version": "3.12.7"
  }
 },
 "nbformat": 4,
 "nbformat_minor": 5
}
